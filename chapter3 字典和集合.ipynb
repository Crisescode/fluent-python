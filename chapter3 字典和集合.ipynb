{
 "cells": [
  {
   "cell_type": "markdown",
   "metadata": {},
   "source": [
    "dict 类型不但在各种程序里广泛使用，它也是 Python 语言的基石。模块的命名空间、实例的属性和函数的关键字参数中都可以看到字典的身影。跟它有关的内置函数都在 `__builtins__.__dict__`模块中。\n",
    "\n"
   ]
  },
  {
   "cell_type": "markdown",
   "metadata": {},
   "source": [
    "正是因为字典至关重要，Python 对它的实现做了高度优化，而散列表则是字典类型性能出众的根本原因。集合（set）的实现其实也依赖于散列表，因此本章也会讲到它。反过\n",
    "来说，想要进一步理解集合和字典，就得先理解散列表的原理。"
   ]
  },
  {
   "cell_type": "markdown",
   "metadata": {},
   "source": [
    "## 3.1 范映射类型"
   ]
  },
  {
   "cell_type": "code",
   "execution_count": 1,
   "metadata": {},
   "outputs": [],
   "source": [
    "tt = (1, 2, (30, 40))"
   ]
  },
  {
   "cell_type": "code",
   "execution_count": 2,
   "metadata": {},
   "outputs": [
    {
     "data": {
      "text/plain": [
       "8027212646858338501"
      ]
     },
     "execution_count": 2,
     "metadata": {},
     "output_type": "execute_result"
    }
   ],
   "source": [
    "hash(tt)"
   ]
  },
  {
   "cell_type": "markdown",
   "metadata": {},
   "source": [
    "## 3.3 字典推导"
   ]
  },
  {
   "cell_type": "markdown",
   "metadata": {},
   "source": [
    "字典推导（dictcomp）可以从任何以键值对作为元素的可迭代对象中构建出字典。"
   ]
  },
  {
   "cell_type": "code",
   "execution_count": 3,
   "metadata": {},
   "outputs": [],
   "source": [
    "DIAL_CODES = [(86, 'China'), (91, 'India'), (1, 'United States'), (62, 'Indonesia'), (55, 'Brazil'), (7, 'Russia')]"
   ]
  },
  {
   "cell_type": "code",
   "execution_count": 6,
   "metadata": {},
   "outputs": [
    {
     "data": {
      "text/plain": [
       "{'China': 86,\n",
       " 'India': 91,\n",
       " 'United States': 1,\n",
       " 'Indonesia': 62,\n",
       " 'Brazil': 55,\n",
       " 'Russia': 7}"
      ]
     },
     "execution_count": 6,
     "metadata": {},
     "output_type": "execute_result"
    }
   ],
   "source": [
    "country_code = {country: code for code, country in DIAL_CODES}\n",
    "country_code"
   ]
  },
  {
   "cell_type": "code",
   "execution_count": 8,
   "metadata": {},
   "outputs": [
    {
     "data": {
      "text/plain": [
       "{86: 'CHINA', 91: 'INDIA', 62: 'INDONESIA'}"
      ]
     },
     "execution_count": 8,
     "metadata": {},
     "output_type": "execute_result"
    }
   ],
   "source": [
    "{code: country.upper() for country, code in country_code.items() if code > 60}"
   ]
  },
  {
   "cell_type": "markdown",
   "metadata": {},
   "source": [
    "## 3.3 常见的映射方法"
   ]
  },
  {
   "cell_type": "markdown",
   "metadata": {},
   "source": [
    "映射类型的方法其实很丰富，其中有：dict、defaultdict以及OrderedDict，后面两个是dict的变种，位于collections模块内。"
   ]
  },
  {
   "cell_type": "markdown",
   "metadata": {},
   "source": [
    "## 3.4 映射的弹性键查询"
   ]
  },
  {
   "cell_type": "markdown",
   "metadata": {},
   "source": [
    "有时候为了方便起见，就算某个键在映射里不存在，我们也希望在通过这个键读取值的时候能得到一个默认值。有两个途径能帮我们达到这个目的，一个是通过 defaultdict 这个类型而不是普通的 dict，另一个是给自己定义一个 dict 的子类，然后在子类中实现 `__missing__`方\n",
    "法。\n",
    "\n"
   ]
  },
  {
   "cell_type": "markdown",
   "metadata": {},
   "source": [
    "### 3.4.1 defaultdict: 处理找不到的键的一个选择"
   ]
  },
  {
   "cell_type": "markdown",
   "metadata": {},
   "source": [
    "具体而言，在实例化一个 defaultdict 的时候，需要给构造方法提供一个可调用对象，这个可调用对象会在 `__getitem__` 碰到找不到的键的时候被调用，让 __getitem__ 返回某种默认值。"
   ]
  },
  {
   "cell_type": "code",
   "execution_count": 17,
   "metadata": {},
   "outputs": [
    {
     "name": "stdout",
     "output_type": "stream",
     "text": [
      "all [(1, 257)]\n",
      "Always [(3, 145)]\n",
      "and [(1, 106), (1, 236)]\n",
      "are [(1, 7)]\n",
      "be [(1, 182), (1, 202)]\n",
      "because [(1, 205)]\n",
      "chance [(1, 244)]\n",
      "do [(1, 254), (1, 284)]\n",
      "Dream [(1, 129)]\n",
      "dream [(1, 152)]\n",
      "dreams [(1, 99)]\n",
      "enough [(3, 14), (3, 49), (3, 82), (3, 114)]\n",
      "feel [(3, 188)]\n",
      "for [(1, 119)]\n",
      "from [(1, 89)]\n",
      "go [(1, 158), (1, 179)]\n",
      "happiness [(3, 21)]\n",
      "happy [(3, 138)]\n",
      "have [(1, 217), (3, 9)]\n",
      "hope [(3, 121)]\n",
      "hug [(1, 110)]\n",
      "human [(3, 108)]\n",
      "hurts [(3, 201), (3, 223)]\n",
      "If [(3, 181)]\n",
      "in [(1, 19), (3, 165)]\n",
      "it [(3, 198), (3, 211)]\n",
      "just [(1, 66)]\n",
      "keep [(3, 99)]\n",
      "life [(1, 22), (1, 231)]\n",
      "make [(3, 34), (3, 66), (3, 129)]\n",
      "May [(3, 1)]\n",
      "miss [(1, 36)]\n",
      "moments [(1, 11)]\n",
      "much [(1, 52)]\n",
      "one [(1, 227), (1, 240)]\n",
      "only [(1, 222)]\n",
      "other [(3, 233)]\n",
      "others [(3, 168)]\n",
      "person [(3, 239)]\n",
      "pick [(1, 79)]\n",
      "probably [(3, 214)]\n",
      "put [(3, 152)]\n",
      "real [(1, 123)]\n",
      "shoes [(3, 175)]\n",
      "so [(1, 49)]\n",
      "someone [(1, 41)]\n",
      "sorrow [(3, 89)]\n",
      "strong [(3, 75)]\n",
      "sweet [(3, 43)]\n",
      "that [(1, 57), (3, 193)]\n",
      "the [(1, 261), (3, 229)]\n",
      "them [(1, 84), (1, 114)]\n",
      "There [(1, 1)]\n",
      "things [(1, 265)]\n",
      "to [(1, 76), (1, 149), (1, 176), (1, 199), (1, 251), (1, 281), (3, 31), (3, 63), (3, 96), (3, 126)]\n",
      "too [(3, 247)]\n",
      "trials [(3, 56)]\n",
      "want [(1, 71), (1, 144), (1, 171), (1, 194), (1, 276)]\n",
      "what [(1, 135), (1, 185)]\n",
      "when [(1, 27)]\n",
      "where [(1, 161)]\n",
      "you [(1, 32), (1, 62), (1, 140), (1, 167), (1, 190), (1, 213), (1, 272), (3, 5), (3, 39), (3, 71), (3, 104), (3, 134), (3, 184), (3, 207)]\n",
      "your [(1, 94)]\n",
      "yourself [(3, 156)]\n"
     ]
    }
   ],
   "source": [
    "import sys\n",
    "import re\n",
    "import collections\n",
    "\n",
    "WORD_RE = re.compile(r'\\w+')\n",
    "\n",
    "index = collections.defaultdict(list) # 把 list 构造方法作为 default_factory 来创建一个defaultdict。\n",
    "with open('./chapter3.txt', encoding='utf-8') as fp:\n",
    "    for line_no, line in enumerate(fp, 1):\n",
    "        for match in WORD_RE.finditer(line):\n",
    "            word = match.group()\n",
    "            column_no = match.start() + 1\n",
    "            location = (line_no, column_no)\n",
    "            # 如果 index 并没有 word 的记录，那么 default_factory 会被调用，为查询不到的键创造一个值。\n",
    "            # 这个值在这里是一个空的列表，然后这个空列表被赋值给 index[word]，继而被当作返回值返回，\n",
    "            # 因此.append(location) 操作总能成功。\n",
    "            index[word].append(location) \n",
    "            \n",
    "for word in sorted(index, key=str.upper):\n",
    "    print(word, index[word])"
   ]
  },
  {
   "cell_type": "markdown",
   "metadata": {},
   "source": [
    "如果在创建 defaultdict 的时候没有指定 default_factory，查询不存在的键会触发 KeyError。"
   ]
  },
  {
   "cell_type": "code",
   "execution_count": 23,
   "metadata": {},
   "outputs": [
    {
     "ename": "KeyError",
     "evalue": "'There'",
     "output_type": "error",
     "traceback": [
      "\u001b[1;31m---------------------------------------------------------------------------\u001b[0m",
      "\u001b[1;31mKeyError\u001b[0m                                  Traceback (most recent call last)",
      "\u001b[1;32m<ipython-input-23-969997d37c28>\u001b[0m in \u001b[0;36m<module>\u001b[1;34m()\u001b[0m\n\u001b[0;32m     15\u001b[0m             \u001b[1;31m# 这个值在这里是一个空的列表，然后这个空列表被赋值给 index[word]，继而被当作返回值返回，\u001b[0m\u001b[1;33m\u001b[0m\u001b[1;33m\u001b[0m\u001b[0m\n\u001b[0;32m     16\u001b[0m             \u001b[1;31m# 因此.append(location) 操作总能成功。\u001b[0m\u001b[1;33m\u001b[0m\u001b[1;33m\u001b[0m\u001b[0m\n\u001b[1;32m---> 17\u001b[1;33m             \u001b[0mindex\u001b[0m\u001b[1;33m[\u001b[0m\u001b[0mword\u001b[0m\u001b[1;33m]\u001b[0m\u001b[1;33m.\u001b[0m\u001b[0mappend\u001b[0m\u001b[1;33m(\u001b[0m\u001b[0mlocation\u001b[0m\u001b[1;33m)\u001b[0m\u001b[1;33m\u001b[0m\u001b[0m\n\u001b[0m\u001b[0;32m     18\u001b[0m \u001b[1;33m\u001b[0m\u001b[0m\n\u001b[0;32m     19\u001b[0m \u001b[1;32mfor\u001b[0m \u001b[0mword\u001b[0m \u001b[1;32min\u001b[0m \u001b[0msorted\u001b[0m\u001b[1;33m(\u001b[0m\u001b[0mindex\u001b[0m\u001b[1;33m,\u001b[0m \u001b[0mkey\u001b[0m\u001b[1;33m=\u001b[0m\u001b[0mstr\u001b[0m\u001b[1;33m.\u001b[0m\u001b[0mupper\u001b[0m\u001b[1;33m)\u001b[0m\u001b[1;33m:\u001b[0m\u001b[1;33m\u001b[0m\u001b[0m\n",
      "\u001b[1;31mKeyError\u001b[0m: 'There'"
     ]
    }
   ],
   "source": [
    "import sys\n",
    "import re\n",
    "import collections\n",
    "\n",
    "WORD_RE = re.compile(r'\\w+')\n",
    "\n",
    "index = collections.defaultdict() # 把 list 构造方法作为 default_factory 来创建一个defaultdict。\n",
    "with open('./chapter3.txt', encoding='utf-8') as fp:\n",
    "    for line_no, line in enumerate(fp, 1):\n",
    "        for match in WORD_RE.finditer(line):\n",
    "            word = match.group()\n",
    "            column_no = match.start() + 1\n",
    "            location = (line_no, column_no)\n",
    "            # 如果 index 并没有 word 的记录，那么 default_factory 会被调用，为查询不到的键创造一个值。\n",
    "            # 这个值在这里是一个空的列表，然后这个空列表被赋值给 index[word]，继而被当作返回值返回，\n",
    "            # 因此.append(location) 操作总能成功。\n",
    "            index[word].append(location) \n",
    "            \n",
    "for word in sorted(index, key=str.upper):\n",
    "    print(word, index[word])"
   ]
  },
  {
   "cell_type": "markdown",
   "metadata": {},
   "source": [
    "> defaultdict 里的 default_factory 只会在`__getitem__` 里被调用，在其他的方法里完全不会发挥作用。比如，dd 是个 defaultdict，k 是个找不到的键， dd[k] 这个表达式会调用 default_factory 创造某个默认值，而 dd.get(k) 则会返回 None。"
   ]
  },
  {
   "cell_type": "markdown",
   "metadata": {},
   "source": [
    "所有这一切背后的功臣其实是特殊方法 `__missing__`。它会在defaultdict 遇到找不到的键的时候调用 default_factory，而实际上这个特性是所有映射类型都可以选择去支持的。"
   ]
  },
  {
   "cell_type": "markdown",
   "metadata": {},
   "source": [
    "### 3.4.2 特殊方法`__missing__`"
   ]
  },
  {
   "cell_type": "markdown",
   "metadata": {},
   "source": [
    "## 3.5 字典的变种"
   ]
  },
  {
   "cell_type": "markdown",
   "metadata": {},
   "source": [
    "### collections.OrderedDict"
   ]
  },
  {
   "cell_type": "markdown",
   "metadata": {},
   "source": [
    "这个类型在添加键的时候会保持顺序，因此键的迭代次序总是一致的。OrderedDict 的 popitem 方法默认删除并返回的是字典里的最后一个元素，但是如果像 my_odict.popitem(last=False) 这样调用它，那么它删除并返回第一个被添加进去的元素。"
   ]
  },
  {
   "cell_type": "code",
   "execution_count": null,
   "metadata": {},
   "outputs": [],
   "source": []
  }
 ],
 "metadata": {
  "kernelspec": {
   "display_name": "Python 3",
   "language": "python",
   "name": "python3"
  },
  "language_info": {
   "codemirror_mode": {
    "name": "ipython",
    "version": 3
   },
   "file_extension": ".py",
   "mimetype": "text/x-python",
   "name": "python",
   "nbconvert_exporter": "python",
   "pygments_lexer": "ipython3",
   "version": "3.6.5"
  }
 },
 "nbformat": 4,
 "nbformat_minor": 2
}
